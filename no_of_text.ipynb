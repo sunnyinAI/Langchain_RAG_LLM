{
 "cells": [
  {
   "cell_type": "code",
   "execution_count": 20,
   "metadata": {},
   "outputs": [
    {
     "name": "stdout",
     "output_type": "stream",
     "text": [
      "Number of words in text file : 8802\n"
     ]
    }
   ],
   "source": [
    "file = open(\"/Users/sunny/Desktop/LLM/P7QAs/Asthma\", \"rt\")\n",
    "data = file.read()\n",
    "words = data.split()\n",
    "\n",
    "print('Number of words in text file :', len(words))"
   ]
  },
  {
   "cell_type": "code",
   "execution_count": 21,
   "metadata": {},
   "outputs": [
    {
     "name": "stdout",
     "output_type": "stream",
     "text": [
      "10389\n"
     ]
    }
   ],
   "source": [
    "import re\n",
    "\n",
    "def get_number_of_tokens(file_name):\n",
    "  \"\"\"\n",
    "  Gets the number of tokens in a text file.\n",
    "\n",
    "  Args:\n",
    "    file_name (str): The name of the text file.\n",
    "\n",
    "  Returns:\n",
    "    int: The number of tokens in the text file.\n",
    "  \"\"\"\n",
    "\n",
    "  number_of_tokens = 0\n",
    "  with open(file_name, \"r\") as f:\n",
    "    for line in f:\n",
    "      number_of_tokens += len(re.split(r\"\\W+\", line))\n",
    "\n",
    "  return number_of_tokens\n",
    "\n",
    "\n",
    "if __name__ == \"__main__\":\n",
    "  file_name = \"/Users/sunny/Desktop/LLM/P7QAs/Asthma\"\n",
    "  number_of_tokens = get_number_of_tokens(file_name)\n",
    "  print(number_of_tokens)"
   ]
  },
  {
   "cell_type": "code",
   "execution_count": 8,
   "metadata": {},
   "outputs": [
    {
     "name": "stdout",
     "output_type": "stream",
     "text": [
      "Number of words in text file : 5851\n"
     ]
    }
   ],
   "source": [
    "file = open(\"/Users/sunny/Desktop/LLM/P7QAs/Asthma_Diagnosis\", \"rt\")\n",
    "data = file.read()\n",
    "words = data.split()\n",
    "\n",
    "print('Number of words in text file :', len(words))"
   ]
  },
  {
   "cell_type": "code",
   "execution_count": 10,
   "metadata": {},
   "outputs": [
    {
     "name": "stdout",
     "output_type": "stream",
     "text": [
      "6892\n"
     ]
    }
   ],
   "source": [
    "import re\n",
    "\n",
    "def get_number_of_tokens(file_name):\n",
    "  \"\"\"\n",
    "  Gets the number of tokens in a text file.\n",
    "\n",
    "  Args:\n",
    "    file_name (str): The name of the text file.\n",
    "\n",
    "  Returns:\n",
    "    int: The number of tokens in the text file.\n",
    "  \"\"\"\n",
    "\n",
    "  number_of_tokens = 0\n",
    "  with open(file_name, \"r\") as f:\n",
    "    for line in f:\n",
    "      number_of_tokens += len(re.split(r\"\\W+\", line))\n",
    "\n",
    "  return number_of_tokens\n",
    "\n",
    "\n",
    "if __name__ == \"__main__\":\n",
    "  file_name = \"/Users/sunny/Desktop/LLM/P7QAs/Asthma_Diagnosis\"\n",
    "  number_of_tokens = get_number_of_tokens(file_name)\n",
    "  print(number_of_tokens)"
   ]
  },
  {
   "cell_type": "code",
   "execution_count": 11,
   "metadata": {},
   "outputs": [
    {
     "name": "stdout",
     "output_type": "stream",
     "text": [
      "Number of words in text file : 4781\n"
     ]
    }
   ],
   "source": [
    "file = open(\"/Users/sunny/Desktop/LLM/P7QAs/Asthma_Theory\", \"rt\")\n",
    "data = file.read()\n",
    "words = data.split()\n",
    "\n",
    "print('Number of words in text file :', len(words))"
   ]
  },
  {
   "cell_type": "code",
   "execution_count": 12,
   "metadata": {},
   "outputs": [
    {
     "name": "stdout",
     "output_type": "stream",
     "text": [
      "5614\n"
     ]
    }
   ],
   "source": [
    "import re\n",
    "\n",
    "def get_number_of_tokens(file_name):\n",
    "  \"\"\"\n",
    "  Gets the number of tokens in a text file.\n",
    "\n",
    "  Args:\n",
    "    file_name (str): The name of the text file.\n",
    "\n",
    "  Returns:\n",
    "    int: The number of tokens in the text file.\n",
    "  \"\"\"\n",
    "\n",
    "  number_of_tokens = 0\n",
    "  with open(file_name, \"r\") as f:\n",
    "    for line in f:\n",
    "      number_of_tokens += len(re.split(r\"\\W+\", line))\n",
    "\n",
    "  return number_of_tokens\n",
    "\n",
    "\n",
    "if __name__ == \"__main__\":\n",
    "  file_name = \"/Users/sunny/Desktop/LLM/P7QAs/Asthma_Theory\"\n",
    "  number_of_tokens = get_number_of_tokens(file_name)\n",
    "  print(number_of_tokens)"
   ]
  },
  {
   "cell_type": "code",
   "execution_count": 20,
   "metadata": {},
   "outputs": [
    {
     "name": "stdout",
     "output_type": "stream",
     "text": [
      "Number of words in text file : 3913\n"
     ]
    }
   ],
   "source": [
    "file = open(\"/home/sunny/Desktop/LLM/P7/Sec2/Asthma_Diagnosis_AlternativeTherapies\", \"rt\")\n",
    "data = file.read()\n",
    "words = data.split()\n",
    "\n",
    "print('Number of words in text file :', len(words))"
   ]
  },
  {
   "cell_type": "code",
   "execution_count": 10,
   "metadata": {},
   "outputs": [
    {
     "name": "stdout",
     "output_type": "stream",
     "text": [
      "4642\n"
     ]
    }
   ],
   "source": [
    "import re\n",
    "\n",
    "def get_number_of_tokens(file_name):\n",
    "  \"\"\"\n",
    "  Gets the number of tokens in a text file.\n",
    "\n",
    "  Args:\n",
    "    file_name (str): The name of the text file.\n",
    "\n",
    "  Returns:\n",
    "    int: The number of tokens in the text file.\n",
    "  \"\"\"\n",
    "\n",
    "  number_of_tokens = 0\n",
    "  with open(file_name, \"r\") as f:\n",
    "    for line in f:\n",
    "      number_of_tokens += len(re.split(r\"\\W+\", line))\n",
    "\n",
    "  return number_of_tokens\n",
    "\n",
    "\n",
    "if __name__ == \"__main__\":\n",
    "  file_name = \"/home/sunny/Desktop/LLM/P7/Sec2/Asthma_Diagnosis_AlternativeTherapies\"\n",
    "  number_of_tokens = get_number_of_tokens(file_name)\n",
    "  print(number_of_tokens)"
   ]
  },
  {
   "cell_type": "code",
   "execution_count": 21,
   "metadata": {},
   "outputs": [
    {
     "name": "stdout",
     "output_type": "stream",
     "text": [
      "Number of words in text file : 4173\n"
     ]
    }
   ],
   "source": [
    "file = open(\"/home/sunny/Desktop/LLM/P7/Sec2/22\", \"rt\")\n",
    "data = file.read()\n",
    "words = data.split()\n",
    "\n",
    "print('Number of words in text file :', len(words))"
   ]
  },
  {
   "cell_type": "markdown",
   "metadata": {},
   "source": [
    "or we can use the below code to count the no of words in a txt file"
   ]
  },
  {
   "cell_type": "code",
   "execution_count": 9,
   "metadata": {},
   "outputs": [
    {
     "name": "stdout",
     "output_type": "stream",
     "text": [
      "Number of words in the file: 4781\n"
     ]
    }
   ],
   "source": [
    "file_name = input(\"Enter the file name: \")\n",
    "\n",
    "try:\n",
    "    with open(file_name, 'r') as file:\n",
    "        content = file.read()\n",
    "        words = content.split()\n",
    "        word_count = len(words)\n",
    "        print(\"Number of words in the file:\", word_count)\n",
    "except FileNotFoundError:\n",
    "    print(\"File not found.\")"
   ]
  },
  {
   "cell_type": "markdown",
   "metadata": {},
   "source": [
    "To get NO of tokens in a paragrapgh"
   ]
  },
  {
   "cell_type": "code",
   "execution_count": 6,
   "metadata": {},
   "outputs": [
    {
     "name": "stdout",
     "output_type": "stream",
     "text": [
      "6892\n"
     ]
    }
   ],
   "source": [
    "import re\n",
    "\n",
    "def get_number_of_tokens(file_name):\n",
    "  \"\"\"\n",
    "  Gets the number of tokens in a text file.\n",
    "\n",
    "  Args:\n",
    "    file_name (str): The name of the text file.\n",
    "\n",
    "  Returns:\n",
    "    int: The number of tokens in the text file.\n",
    "  \"\"\"\n",
    "\n",
    "  number_of_tokens = 0\n",
    "  with open(file_name, \"r\") as f:\n",
    "    for line in f:\n",
    "      number_of_tokens += len(re.split(r\"\\W+\", line))\n",
    "\n",
    "  return number_of_tokens\n",
    "\n",
    "\n",
    "if __name__ == \"__main__\":\n",
    "  file_name = \"/home/sunny/Desktop/LLM/P7QAs/Sec2/Asthma_Diagnosis\"\n",
    "  number_of_tokens = get_number_of_tokens(file_name)\n",
    "  print(number_of_tokens)\n"
   ]
  }
 ],
 "metadata": {
  "kernelspec": {
   "display_name": "Python 3",
   "language": "python",
   "name": "python3"
  },
  "language_info": {
   "codemirror_mode": {
    "name": "ipython",
    "version": 3
   },
   "file_extension": ".py",
   "mimetype": "text/x-python",
   "name": "python",
   "nbconvert_exporter": "python",
   "pygments_lexer": "ipython3",
   "version": "3.10.1"
  },
  "orig_nbformat": 4
 },
 "nbformat": 4,
 "nbformat_minor": 2
}
